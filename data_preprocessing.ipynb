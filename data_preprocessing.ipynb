{
 "cells": [
  {
   "cell_type": "code",
   "execution_count": 1,
   "metadata": {},
   "outputs": [],
   "source": [
    "import pandas as pd"
   ]
  },
  {
   "cell_type": "code",
   "execution_count": 2,
   "metadata": {},
   "outputs": [],
   "source": [
    "data = pd.read_csv(\"all_datasets/content_based/cleaned_movies_info.csv\", index_col=0, low_memory=False)"
   ]
  },
  {
   "cell_type": "code",
   "execution_count": 3,
   "metadata": {},
   "outputs": [],
   "source": [
    "# get director's mean ratings of movies they directed\n",
    "director_mean_ratings = data.groupby('directorId')['rating'].mean()\n",
    "data['director_mean_rating'] = data['directorId'].map(director_mean_ratings)"
   ]
  },
  {
   "cell_type": "code",
   "execution_count": 4,
   "metadata": {},
   "outputs": [],
   "source": [
    "# get encoded movie's decade\n",
    "data['decade'] = (data['year'] // 10) * 10\n",
    "decade_onehot = pd.get_dummies(data['decade'], prefix='decade').astype(int)\n",
    "data = pd.concat([data, decade_onehot], axis=1)"
   ]
  },
  {
   "cell_type": "code",
   "execution_count": 5,
   "metadata": {},
   "outputs": [],
   "source": [
    "# get encoded movie's genre\n",
    "genres_onehot = data['genres'].str.get_dummies('|')\n",
    "data = pd.concat([data, genres_onehot], axis=1)"
   ]
  },
  {
   "cell_type": "code",
   "execution_count": 7,
   "metadata": {},
   "outputs": [],
   "source": [
    "# temporary replace missing actorId (movies with only one or two actors) with id = -1\n",
    "data.fillna(-1, inplace=True)"
   ]
  },
  {
   "cell_type": "code",
   "execution_count": 9,
   "metadata": {},
   "outputs": [],
   "source": [
    "# get actor's mean rating by id\n",
    "actors = pd.concat([data['actor1'], data['actor2'], data['actor3']]).reset_index(drop=True)\n",
    "ratings = pd.concat([data['rating']] * 3).reset_index(drop=True)\n",
    "actor_ratings = pd.DataFrame({'actorId': actors, 'rating': ratings})\n",
    "actor_mean_ratings = actor_ratings.groupby('actorId')['rating'].mean()"
   ]
  },
  {
   "cell_type": "code",
   "execution_count": 15,
   "metadata": {},
   "outputs": [],
   "source": [
    "# remove actorId = -1\n",
    "actor_mean_ratings = actor_mean_ratings.iloc[1:]"
   ]
  },
  {
   "cell_type": "code",
   "execution_count": 16,
   "metadata": {},
   "outputs": [],
   "source": [
    "# add to movie dataframe\n",
    "data['actor1_mean_rating'] = data['actor1'].map(actor_mean_ratings)\n",
    "data['actor2_mean_rating'] = data['actor2'].map(actor_mean_ratings)\n",
    "data['actor3_mean_rating'] = data['actor3'].map(actor_mean_ratings)"
   ]
  },
  {
   "cell_type": "code",
   "execution_count": 17,
   "metadata": {},
   "outputs": [],
   "source": [
    "# fill missing actor with mean rating of all actors\n",
    "overall_mean_rating = actor_mean_ratings.mean()\n",
    "data['actor1_mean_rating'] = data['actor1_mean_rating'].fillna(overall_mean_rating)\n",
    "data['actor2_mean_rating'] = data['actor2_mean_rating'].fillna(overall_mean_rating)\n",
    "data['actor3_mean_rating'] = data['actor3_mean_rating'].fillna(overall_mean_rating)"
   ]
  },
  {
   "cell_type": "code",
   "execution_count": 19,
   "metadata": {},
   "outputs": [],
   "source": [
    "# drop old columns\n",
    "data.drop(columns=['directorId', 'genres', 'year', 'decade', 'actor1', 'actor2', 'actor3'], inplace=True)"
   ]
  },
  {
   "cell_type": "code",
   "execution_count": 21,
   "metadata": {},
   "outputs": [],
   "source": [
    "data.to_csv('all_datasets/content_based/processed_movies_info.csv')"
   ]
  }
 ],
 "metadata": {
  "kernelspec": {
   "display_name": "Python 3",
   "language": "python",
   "name": "python3"
  },
  "language_info": {
   "codemirror_mode": {
    "name": "ipython",
    "version": 3
   },
   "file_extension": ".py",
   "mimetype": "text/x-python",
   "name": "python",
   "nbconvert_exporter": "python",
   "pygments_lexer": "ipython3",
   "version": "3.12.3"
  }
 },
 "nbformat": 4,
 "nbformat_minor": 2
}
