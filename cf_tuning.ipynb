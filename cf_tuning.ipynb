{
 "cells": [
  {
   "cell_type": "code",
   "execution_count": 1,
   "metadata": {},
   "outputs": [],
   "source": [
    "import pandas as pd\n",
    "from joblib import load\n",
    "from sklearn.decomposition import TruncatedSVD\n",
    "from sklearn.pipeline import make_pipeline\n",
    "from sklearn.neighbors import KNeighborsRegressor\n",
    "from numpy.random import choice\n",
    "from sklearn.svm import SVR\n",
    "from sklearn.ensemble import StackingRegressor\n",
    "from sklearn.linear_model import Ridge"
   ]
  },
  {
   "cell_type": "code",
   "execution_count": 2,
   "metadata": {},
   "outputs": [],
   "source": [
    "filename = 'all_datasets/collaborative/user_item_dataset_50_50.sav'\n",
    "user_item_dataset = load(filename)\n",
    "\n",
    "rating_df = pd.read_csv('all_datasets/movielens/ratings.csv')"
   ]
  },
  {
   "cell_type": "code",
   "execution_count": 3,
   "metadata": {},
   "outputs": [],
   "source": [
    "rating_histogram = rating_df['userId'].value_counts().loc[user_item_dataset.users].sort_values()"
   ]
  },
  {
   "cell_type": "code",
   "execution_count": 4,
   "metadata": {},
   "outputs": [],
   "source": [
    "# get user with number of movies watched in a specific range\n",
    "def get_users_in_range(rating_histogram, low, high):\n",
    "    return rating_histogram[(rating_histogram >= low) & (rating_histogram < high)]"
   ]
  },
  {
   "cell_type": "code",
   "execution_count": 5,
   "metadata": {},
   "outputs": [],
   "source": [
    "stack = StackingRegressor(estimators=[('knn', KNeighborsRegressor()), ('svr', SVR())],\n",
    "                          n_jobs=-1)\n",
    "svd = TruncatedSVD()\n",
    "stack_pip = make_pipeline(svd, stack)\n",
    "stack_param_grid = {'truncatedsvd__n_components': [10], 'stackingregressor__final_estimator': [Ridge(1.4), Ridge(1.6), Ridge(1.8), Ridge(2), Ridge(2.2)],\n",
    "                    'stackingregressor__estimators': [\n",
    "                        [('knn', KNeighborsRegressor(24, weights='distance', metric='cosine')), ('svr', SVR(C=2.2))],\n",
    "                    ]}"
   ]
  },
  {
   "cell_type": "code",
   "execution_count": 6,
   "metadata": {},
   "outputs": [],
   "source": [
    "knn = KNeighborsRegressor(n_jobs=-1)\n",
    "svd = TruncatedSVD()\n",
    "knn_pip = make_pipeline(svd, knn)\n",
    "knn_param_grid = {'truncatedsvd__n_components': [50],\n",
    "                'kneighborsregressor__n_neighbors': [20, 22, 24, 26, 28],\n",
    "                'kneighborsregressor__weights': ['distance'],\n",
    "                'kneighborsregressor__metric': ['cosine']}"
   ]
  },
  {
   "cell_type": "code",
   "execution_count": 7,
   "metadata": {},
   "outputs": [
    {
     "data": {
      "text/plain": [
       "array([323265,  34398, 244376,  36757, 215751, 119535, 138307, 275070,\n",
       "       118523, 132574], dtype=int64)"
      ]
     },
     "execution_count": 7,
     "metadata": {},
     "output_type": "execute_result"
    }
   ],
   "source": [
    "# get user samples for tuning\n",
    "users_in_range = get_users_in_range(rating_histogram, 100, 200)\n",
    "user_sample = choice(users_in_range.index, 10)\n",
    "user_sample"
   ]
  },
  {
   "cell_type": "code",
   "execution_count": 8,
   "metadata": {},
   "outputs": [
    {
     "name": "stdout",
     "output_type": "stream",
     "text": [
      "Number of users evaluated:  1\n",
      "Number of users evaluated:  2\n",
      "Number of users evaluated:  3\n",
      "Number of users evaluated:  4\n",
      "Number of users evaluated:  5\n",
      "Number of users evaluated:  6\n",
      "Number of users evaluated:  7\n",
      "Number of users evaluated:  8\n",
      "Number of users evaluated:  9\n",
      "Number of users evaluated:  10\n"
     ]
    }
   ],
   "source": [
    "#add param size\n",
    "param_df = user_item_dataset.customized_grid_search(users=user_sample, estimator=stack_pip, param_grid=stack_param_grid, param_grid_size=5)"
   ]
  },
  {
   "cell_type": "code",
   "execution_count": 9,
   "metadata": {},
   "outputs": [
    {
     "data": {
      "text/html": [
       "<div>\n",
       "<style scoped>\n",
       "    .dataframe tbody tr th:only-of-type {\n",
       "        vertical-align: middle;\n",
       "    }\n",
       "\n",
       "    .dataframe tbody tr th {\n",
       "        vertical-align: top;\n",
       "    }\n",
       "\n",
       "    .dataframe thead th {\n",
       "        text-align: right;\n",
       "    }\n",
       "</style>\n",
       "<table border=\"1\" class=\"dataframe\">\n",
       "  <thead>\n",
       "    <tr style=\"text-align: right;\">\n",
       "      <th></th>\n",
       "      <th>stackingregressor__estimators</th>\n",
       "      <th>stackingregressor__final_estimator</th>\n",
       "      <th>truncatedsvd__n_components</th>\n",
       "      <th>rmse</th>\n",
       "      <th>mae</th>\n",
       "    </tr>\n",
       "  </thead>\n",
       "  <tbody>\n",
       "    <tr>\n",
       "      <th>0</th>\n",
       "      <td>[(knn, KNeighborsRegressor(metric='cosine', n_...</td>\n",
       "      <td>Ridge(alpha=1.4)</td>\n",
       "      <td>10</td>\n",
       "      <td>-0.973010</td>\n",
       "      <td>-0.784341</td>\n",
       "    </tr>\n",
       "    <tr>\n",
       "      <th>1</th>\n",
       "      <td>[(knn, KNeighborsRegressor(metric='cosine', n_...</td>\n",
       "      <td>Ridge(alpha=1.6)</td>\n",
       "      <td>10</td>\n",
       "      <td>-0.972561</td>\n",
       "      <td>-0.784451</td>\n",
       "    </tr>\n",
       "    <tr>\n",
       "      <th>2</th>\n",
       "      <td>[(knn, KNeighborsRegressor(metric='cosine', n_...</td>\n",
       "      <td>Ridge(alpha=1.8)</td>\n",
       "      <td>10</td>\n",
       "      <td>-0.974546</td>\n",
       "      <td>-0.786297</td>\n",
       "    </tr>\n",
       "    <tr>\n",
       "      <th>3</th>\n",
       "      <td>[(knn, KNeighborsRegressor(metric='cosine', n_...</td>\n",
       "      <td>Ridge(alpha=2)</td>\n",
       "      <td>10</td>\n",
       "      <td>-0.972426</td>\n",
       "      <td>-0.784362</td>\n",
       "    </tr>\n",
       "    <tr>\n",
       "      <th>4</th>\n",
       "      <td>[(knn, KNeighborsRegressor(metric='cosine', n_...</td>\n",
       "      <td>Ridge(alpha=2.2)</td>\n",
       "      <td>10</td>\n",
       "      <td>-0.970914</td>\n",
       "      <td>-0.783355</td>\n",
       "    </tr>\n",
       "  </tbody>\n",
       "</table>\n",
       "</div>"
      ],
      "text/plain": [
       "                       stackingregressor__estimators  \\\n",
       "0  [(knn, KNeighborsRegressor(metric='cosine', n_...   \n",
       "1  [(knn, KNeighborsRegressor(metric='cosine', n_...   \n",
       "2  [(knn, KNeighborsRegressor(metric='cosine', n_...   \n",
       "3  [(knn, KNeighborsRegressor(metric='cosine', n_...   \n",
       "4  [(knn, KNeighborsRegressor(metric='cosine', n_...   \n",
       "\n",
       "  stackingregressor__final_estimator  truncatedsvd__n_components      rmse  \\\n",
       "0                   Ridge(alpha=1.4)                          10 -0.973010   \n",
       "1                   Ridge(alpha=1.6)                          10 -0.972561   \n",
       "2                   Ridge(alpha=1.8)                          10 -0.974546   \n",
       "3                     Ridge(alpha=2)                          10 -0.972426   \n",
       "4                   Ridge(alpha=2.2)                          10 -0.970914   \n",
       "\n",
       "        mae  \n",
       "0 -0.784341  \n",
       "1 -0.784451  \n",
       "2 -0.786297  \n",
       "3 -0.784362  \n",
       "4 -0.783355  "
      ]
     },
     "execution_count": 9,
     "metadata": {},
     "output_type": "execute_result"
    }
   ],
   "source": [
    "param_df"
   ]
  },
  {
   "cell_type": "code",
   "execution_count": 10,
   "metadata": {},
   "outputs": [],
   "source": [
    "#param_df.to_csv('result/stacking/1000+.csv', index=False)"
   ]
  }
 ],
 "metadata": {
  "kernelspec": {
   "display_name": "base",
   "language": "python",
   "name": "python3"
  },
  "language_info": {
   "codemirror_mode": {
    "name": "ipython",
    "version": 3
   },
   "file_extension": ".py",
   "mimetype": "text/x-python",
   "name": "python",
   "nbconvert_exporter": "python",
   "pygments_lexer": "ipython3",
   "version": "3.11.5"
  }
 },
 "nbformat": 4,
 "nbformat_minor": 2
}
