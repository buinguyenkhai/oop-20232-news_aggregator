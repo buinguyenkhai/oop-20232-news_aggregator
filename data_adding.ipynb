{
 "cells": [
  {
   "cell_type": "code",
   "execution_count": 3,
   "metadata": {},
   "outputs": [],
   "source": [
    "import pandas as pd\n",
    "from imdb_dataset import IMDbDataset\n",
    "import re\n",
    "import numpy as np"
   ]
  },
  {
   "cell_type": "code",
   "execution_count": 2,
   "metadata": {},
   "outputs": [],
   "source": [
    "imdb = IMDbDataset(\"all_datasets/imdb/\")\n",
    "movies = pd.read_csv('all_datasets/movielens/movies.csv')\n",
    "links = pd.read_csv('all_datasets/movielens/links.csv')"
   ]
  },
  {
   "cell_type": "code",
   "execution_count": 22,
   "metadata": {},
   "outputs": [],
   "source": [
    "# get top 3 actors dataframe\n",
    "top_3_actors = imdb.cast.groupby('imdbId').head(3)\n",
    "top_3_actors['actor_rank'] = top_3_actors.groupby('imdbId').cumcount() + 1\n",
    "top_3_actors = top_3_actors.pivot(index='imdbId', columns='actor_rank', values='actorId').reset_index()\n",
    "top_3_actors.columns = ['imdbId', 'actor1', 'actor2', 'actor3']"
   ]
  },
  {
   "cell_type": "code",
   "execution_count": 45,
   "metadata": {},
   "outputs": [],
   "source": [
    "# merge with IMDb dataset to get extra movies info\n",
    "extra_info = imdb.basics.merge(imdb.directors, on='imdbId', how='outer').merge(imdb.ratings, on='imdbId', how='outer').merge(top_3_actors, on='imdbId', how='outer')"
   ]
  },
  {
   "cell_type": "code",
   "execution_count": 47,
   "metadata": {},
   "outputs": [
    {
     "name": "stderr",
     "output_type": "stream",
     "text": [
      "C:\\Users\\KHAI\\AppData\\Local\\Temp\\ipykernel_3108\\3338069632.py:2: SettingWithCopyWarning: \n",
      "A value is trying to be set on a copy of a slice from a DataFrame.\n",
      "Try using .loc[row_indexer,col_indexer] = value instead\n",
      "\n",
      "See the caveats in the documentation: https://pandas.pydata.org/pandas-docs/stable/user_guide/indexing.html#returning-a-view-versus-a-copy\n",
      "  extract['imdbId'] = extract['imdbId'].str.lstrip('t')\n"
     ]
    }
   ],
   "source": [
    "links['imdbId'] = links['imdbId'].astype(str).str.zfill(7)\n",
    "extra_info['imdbId'] = extra_info['imdbId'].str.lstrip('t')\n",
    "movies['title']= movies['title'].str.strip()"
   ]
  },
  {
   "cell_type": "code",
   "execution_count": 49,
   "metadata": {},
   "outputs": [
    {
     "name": "stderr",
     "output_type": "stream",
     "text": [
      "<>:2: SyntaxWarning: invalid escape sequence '\\('\n",
      "<>:2: SyntaxWarning: invalid escape sequence '\\('\n",
      "C:\\Users\\KHAI\\AppData\\Local\\Temp\\ipykernel_3108\\2517055862.py:2: SyntaxWarning: invalid escape sequence '\\('\n",
      "  pattern = re.search('\\((\\d{4})\\)', x)\n"
     ]
    }
   ],
   "source": [
    "def extract_year(x):\n",
    "    pattern = re.search('\\((\\d{4})\\)', x)\n",
    "    if pattern != None:\n",
    "        return pattern.group(1)"
   ]
  },
  {
   "cell_type": "code",
   "execution_count": 50,
   "metadata": {},
   "outputs": [],
   "source": [
    "# extract year from title\n",
    "movies['extract_year'] = movies['title'].apply(lambda x: extract_year(x) if extract_year(x) != None else np.nan)"
   ]
  },
  {
   "cell_type": "code",
   "execution_count": 51,
   "metadata": {},
   "outputs": [],
   "source": [
    "# final dataframe with full movies info\n",
    "new_df = movies.merge(links, on='movieId').merge(extra_info, on='imdbId', how='left')\n",
    "new_df['year'] = new_df['year'].fillna(new_df['extract_year'])\n",
    "new_df = new_df.drop(columns='extract_year')\n",
    "new_df['directorId'] = new_df['directorId'].astype('Int64')\n",
    "new_df.drop(columns=['tmdbId'], inplace=True)"
   ]
  },
  {
   "cell_type": "code",
   "execution_count": 55,
   "metadata": {},
   "outputs": [],
   "source": [
    "# full movies info csv file\n",
    "new_df.to_csv(\"all_datasets/content_based/completed_movies_info.csv\")"
   ]
  }
 ],
 "metadata": {
  "kernelspec": {
   "display_name": "Python 3",
   "language": "python",
   "name": "python3"
  },
  "language_info": {
   "codemirror_mode": {
    "name": "ipython",
    "version": 3
   },
   "file_extension": ".py",
   "mimetype": "text/x-python",
   "name": "python",
   "nbconvert_exporter": "python",
   "pygments_lexer": "ipython3",
   "version": "3.12.3"
  }
 },
 "nbformat": 4,
 "nbformat_minor": 2
}
