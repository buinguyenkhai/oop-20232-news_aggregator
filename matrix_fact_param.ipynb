{
 "cells": [
  {
   "cell_type": "code",
   "execution_count": 1,
   "metadata": {},
   "outputs": [],
   "source": [
    "import pandas as pd\n",
    "import numpy as np\n",
    "from surprise import Reader, Dataset, SVD, SlopeOne, accuracy\n",
    "import time\n",
    "#from sklearn.model_selection import GridSearchCV\n",
    "from surprise.model_selection import GridSearchCV\n",
    "from sklearn.model_selection import KFold\n",
    "import tabulate as tb"
   ]
  },
  {
   "cell_type": "code",
   "execution_count": 2,
   "metadata": {},
   "outputs": [],
   "source": [
    "data = Dataset.load_builtin('ml-100k')"
   ]
  },
  {
   "cell_type": "code",
   "execution_count": 3,
   "metadata": {},
   "outputs": [
    {
     "name": "stdout",
     "output_type": "stream",
     "text": [
      "0.9345545682914487\n",
      "{'n_factors': 200, 'n_epochs': 60, 'lr_all': 0.02, 'reg_all': 0.03}\n"
     ]
    }
   ],
   "source": [
    "sim_options = {\n",
    "    \"n_factors\": [x * 50 for x in range(1,5)],\n",
    "    \"n_epochs\": [x * 10 for x in range(4, 7)],\n",
    "    \"lr_all\": [x / 50 for x in range(1,6)],\n",
    "    \"reg_all\": [0.01, 0.02, 0.03]\n",
    "\n",
    "}\n",
    "sim_options2 = {\n",
    "    \"n_factors\": [50,100],\n",
    "    \"n_epochs\": [10,20],\n",
    "    \"lr_all\": [0.05],\n",
    "}\n",
    "#param_grid = {\"sim_options\": sim_options}\n",
    "split = 5\n",
    "gs = GridSearchCV(SVD, sim_options,\n",
    "                   measures=['rmse', 'mae'], cv=split, \n",
    "                   n_jobs=6, refit=False)\n",
    "gs.fit(data)\n",
    "\n",
    "#gs.cv_results_['mean_test_score']\n",
    "print(gs.best_score[\"rmse\"])\n",
    "print(gs.best_params[\"rmse\"])"
   ]
  },
  {
   "cell_type": "code",
   "execution_count": null,
   "metadata": {},
   "outputs": [],
   "source": [
    "table = [[] for _ in range(len(gs.cv_results[\"params\"]))]\n",
    "for i in range(len(gs.cv_results[\"params\"])):\n",
    "    for key in gs.cv_results.keys():\n",
    "        table[i].append(gs.cv_results[key][i])\n",
    "\n",
    "header = gs.cv_results.keys()\n",
    "print(header)\n",
    "print(tb.tabulate(table, header, tablefmt=\"rst\"))\n",
    "\n",
    "print()\n",
    "\n",
    "for key, val in gs.cv_results.items():\n",
    "    print(\"{:<20}\".format(\"'\" + key + \"':\"), end=\"\")\n",
    "    if isinstance(val[0], float):\n",
    "        print([float(f\"{f:.2f}\") for f in val])\n",
    "    else:\n",
    "        print(val)"
   ]
  },
  {
   "cell_type": "code",
   "execution_count": 5,
   "metadata": {},
   "outputs": [],
   "source": [
    "sth = pd.DataFrame(gs.cv_results)\n",
    "sth.to_csv('result.csv')"
   ]
  }
 ],
 "metadata": {
  "kernelspec": {
   "display_name": "myenv",
   "language": "python",
   "name": "python3"
  },
  "language_info": {
   "codemirror_mode": {
    "name": "ipython",
    "version": 3
   },
   "file_extension": ".py",
   "mimetype": "text/x-python",
   "name": "python",
   "nbconvert_exporter": "python",
   "pygments_lexer": "ipython3",
   "version": "3.12.3"
  }
 },
 "nbformat": 4,
 "nbformat_minor": 2
}
