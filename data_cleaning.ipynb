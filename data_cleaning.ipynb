{
 "cells": [
  {
   "cell_type": "code",
   "execution_count": 1,
   "metadata": {},
   "outputs": [],
   "source": [
    "import pandas as pd"
   ]
  },
  {
   "cell_type": "code",
   "execution_count": 2,
   "metadata": {},
   "outputs": [],
   "source": [
    "movies_df = pd.read_csv(\"all_datasets/content_based/completed_movies_info.csv\", index_col=0)\n",
    "ratings_df = pd.read_csv(\"all_datasets/movielens/ratings.csv\", index_col=0)"
   ]
  },
  {
   "cell_type": "code",
   "execution_count": 4,
   "metadata": {},
   "outputs": [],
   "source": [
    "# filter movies with less than 50 ratings\n",
    "movie_counts = ratings_df['movieId'].value_counts()\n",
    "qualified_movies = movie_counts[movie_counts >= 50].index\n",
    "movies_df = movies_df[movies_df['movieId'].isin(qualified_movies)]"
   ]
  },
  {
   "cell_type": "code",
   "execution_count": 7,
   "metadata": {},
   "outputs": [
    {
     "data": {
      "text/plain": [
       "movieId           0\n",
       "title             0\n",
       "genres            0\n",
       "imdbId            0\n",
       "year             11\n",
       "directorId       10\n",
       "rating           30\n",
       "actor1         6769\n",
       "actor2        10253\n",
       "actor3        12481\n",
       "dtype: int64"
      ]
     },
     "execution_count": 7,
     "metadata": {},
     "output_type": "execute_result"
    }
   ],
   "source": [
    "movies_df.isna().sum()"
   ]
  },
  {
   "cell_type": "code",
   "execution_count": 8,
   "metadata": {},
   "outputs": [],
   "source": [
    "# drop movies with no year, director or rating\n",
    "movies_df = movies_df[movies_df['year'].notna()]\n",
    "movies_df = movies_df[movies_df['directorId'].notna()]\n",
    "movies_df = movies_df[movies_df['rating'].notna()]"
   ]
  },
  {
   "cell_type": "code",
   "execution_count": 9,
   "metadata": {},
   "outputs": [
    {
     "data": {
      "text/plain": [
       "movieId         int64\n",
       "title          object\n",
       "genres         object\n",
       "imdbId          int64\n",
       "year           object\n",
       "directorId    float64\n",
       "rating        float64\n",
       "actor1        float64\n",
       "actor2        float64\n",
       "actor3        float64\n",
       "dtype: object"
      ]
     },
     "execution_count": 9,
     "metadata": {},
     "output_type": "execute_result"
    }
   ],
   "source": [
    "movies_df.dtypes"
   ]
  },
  {
   "cell_type": "code",
   "execution_count": 10,
   "metadata": {},
   "outputs": [],
   "source": [
    "# change to proper column types\n",
    "movies_df['directorId'] = movies_df['directorId'].astype(int)\n",
    "movies_df['actor1'] = movies_df['actor1'].astype('Int64')\n",
    "movies_df['actor2'] = movies_df['actor2'].astype('Int64')\n",
    "movies_df['actor3'] = movies_df['actor3'].astype('Int64')"
   ]
  },
  {
   "cell_type": "code",
   "execution_count": 11,
   "metadata": {},
   "outputs": [],
   "source": [
    "# remove a movie with year = '\\N'\n",
    "movies_df = movies_df[movies_df['year'] != '\\\\N']"
   ]
  },
  {
   "cell_type": "code",
   "execution_count": 12,
   "metadata": {},
   "outputs": [],
   "source": [
    "# movies info after cleaning\n",
    "movies_df.to_csv(\"cleaned_movies_info.csv\")"
   ]
  },
  {
   "cell_type": "code",
   "execution_count": 18,
   "metadata": {},
   "outputs": [],
   "source": [
    "# filer users with less than 50 ratings on movies that has more than 50 ratings\n",
    "ratings_df = ratings_df[ratings_df['movieId'].isin(movies_df['movieId'])]\n",
    "user_rating_counts = ratings_df['userId'].value_counts()\n",
    "qualified_users = user_rating_counts[user_rating_counts >= 50].index\n",
    "ratings_df = ratings_df[ratings_df['userId'].isin(qualified_users)]\n",
    "ratings_df = ratings_df[ratings_df['movieId'].isin(movies_df['movieId'])]"
   ]
  },
  {
   "cell_type": "code",
   "execution_count": 23,
   "metadata": {},
   "outputs": [],
   "source": [
    "# users after filtering\n",
    "ratings_df.to_csv('all_datasets/content_based/qualified_ratings.csv')"
   ]
  }
 ],
 "metadata": {
  "kernelspec": {
   "display_name": "Python 3",
   "language": "python",
   "name": "python3"
  },
  "language_info": {
   "codemirror_mode": {
    "name": "ipython",
    "version": 3
   },
   "file_extension": ".py",
   "mimetype": "text/x-python",
   "name": "python",
   "nbconvert_exporter": "python",
   "pygments_lexer": "ipython3",
   "version": "3.12.3"
  }
 },
 "nbformat": 4,
 "nbformat_minor": 2
}
